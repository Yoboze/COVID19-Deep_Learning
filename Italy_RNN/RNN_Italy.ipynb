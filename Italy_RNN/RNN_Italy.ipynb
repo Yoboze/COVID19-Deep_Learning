{
 "cells": [
  {
   "cell_type": "code",
   "execution_count": 1,
   "id": "c8d974f4-291c-49ab-b9cc-c7473f54235f",
   "metadata": {},
   "outputs": [
    {
     "name": "stdout",
     "output_type": "stream",
     "text": [
      "WARNING:tensorflow:From /opt/conda/lib/python3.10/site-packages/tensorflow/python/compat/v2_compat.py:107: disable_resource_variables (from tensorflow.python.ops.variable_scope) is deprecated and will be removed in a future version.\n",
      "Instructions for updating:\n",
      "non-resource variables are not supported in the long term\n"
     ]
    }
   ],
   "source": [
    "import torch\n",
    "is_cuda = torch.cuda.is_available()\n",
    "if is_cuda:\n",
    "    device = torch.device(\"cuda\")\n",
    "else:\n",
    "    device = torch.device(\"cpu\")\n",
    "import torch.nn as nn\n",
    "import numpy as np\n",
    "import time\n",
    "import pandas as pd\n",
    "import tensorflow as tf\n",
    "from tensorflow import keras\n",
    "from tensorflow.keras import layers\n",
    "from pyDOE import lhs\n",
    "import matplotlib.pyplot as plt\n",
    "%matplotlib inline\n",
    "from matplotlib.pylab import rcParams\n",
    "rcParams['figure.figsize'] =6,6\n",
    "from sklearn.preprocessing import MinMaxScaler\n",
    "from sklearn.metrics import mean_squared_error, mean_absolute_error\n",
    "from matplotlib.ticker import FormatStrFormatter\n",
    "from scipy.interpolate import CubicSpline\n",
    "from scipy.integrate import odeint\n",
    "import tensorflow.compat.v1 as tff\n",
    "tff.disable_v2_behavior()\n",
    "np.random.seed(1234)\n",
    "tff.random.set_random_seed(1234)\n",
    "import sys\n",
    "sys.path.insert(0, '../../Utilities/')\n",
    "import os\n",
    "os.environ['TF_CPP_MIN_LOG_LEVEL'] = '2'\n",
    "import matplotlib.dates as dates\n",
    "import matplotlib as mpl\n",
    "from RNN_Italy import *\n",
    "import matplotlib.dates as dates"
   ]
  },
  {
   "cell_type": "code",
   "execution_count": 2,
   "id": "d0cf1d7c-ef97-4b41-b69b-d1ea5da70788",
   "metadata": {},
   "outputs": [],
   "source": [
    "##########################################################################################################\n",
    "# load and Processing of data\n",
    "\n",
    "df1 = pd.read_csv('world_confirmed.csv')\n",
    "\n",
    "##########################################################################################################\n",
    "# process data\n",
    "today = '07/10/20' # Update this to include more data \n",
    "days = pd.date_range(start='02/27/20',end=today)\n",
    "dd = np.arange(len(days))\n",
    "\n",
    "total_cases = [df1[day.strftime('%-m/%-d/%y')].sum() for day in days] \n",
    " \n",
    "row_c=df1['Country_Region'].tolist().index('Italy')\n",
    "total_cases = [df1[day.strftime('%-m/%-d/%y')][row_c] for day in days]\n",
    "\n",
    "t = np.reshape(dd, [-1])\n",
    "I = np.reshape(total_cases, [-1,1])\n",
    "nd = 135\n",
    "cs1 = CubicSpline(t,I)\n",
    "\n",
    "Td = np.linspace(0,135,nd)\n",
    "\n",
    "cs_I = cs1(Td)\n"
   ]
  },
  {
   "cell_type": "code",
   "execution_count": 3,
   "id": "8a288c8c-773b-43e0-8a9f-8bd8a84a80a2",
   "metadata": {},
   "outputs": [],
   "source": [
    "##define the data\n",
    "realDat = cs_I"
   ]
  },
  {
   "cell_type": "code",
   "execution_count": 6,
   "id": "48547338-4fb6-4777-9ad4-e56c591c06c2",
   "metadata": {},
   "outputs": [
    {
     "name": "stdout",
     "output_type": "stream",
     "text": [
      "0\n",
      "####### GRU bootstrap for IT #######\n",
      "GRU Train\n"
     ]
    },
    {
     "name": "stderr",
     "output_type": "stream",
     "text": [
      "/opt/conda/lib/python3.10/site-packages/torch/nn/modules/rnn.py:62: UserWarning: dropout option adds dropout after all but last recurrent layer, so non-zero dropout expects num_layers greater than 1, but got dropout=0.2 and num_layers=1\n",
      "  warnings.warn(\"dropout option adds dropout after all but last \"\n"
     ]
    },
    {
     "name": "stdout",
     "output_type": "stream",
     "text": [
      "Epoch 100/2500, Train Loss: 5.052e-05, Time:0.01 seconds\n",
      "Epoch 200/2500, Train Loss: 3.609e-05, Time:0.01 seconds\n",
      "Epoch 300/2500, Train Loss: 3.737e-05, Time:0.01 seconds\n",
      "Epoch 400/2500, Train Loss: 3.540e-05, Time:0.01 seconds\n",
      "Epoch 500/2500, Train Loss: 5.000e-05, Time:0.01 seconds\n",
      "Epoch 600/2500, Train Loss: 3.628e-05, Time:0.01 seconds\n",
      "Epoch 700/2500, Train Loss: 2.576e-05, Time:0.01 seconds\n",
      "Epoch 800/2500, Train Loss: 2.835e-05, Time:0.01 seconds\n",
      "Epoch 900/2500, Train Loss: 2.015e-05, Time:0.01 seconds\n",
      "Epoch 1000/2500, Train Loss: 2.647e-05, Time:0.01 seconds\n",
      "Epoch 1100/2500, Train Loss: 5.764e-05, Time:0.01 seconds\n",
      "Epoch 1200/2500, Train Loss: 3.427e-05, Time:0.01 seconds\n",
      "Epoch 1300/2500, Train Loss: 2.662e-05, Time:0.01 seconds\n",
      "Epoch 1400/2500, Train Loss: 2.545e-05, Time:0.01 seconds\n",
      "Epoch 1500/2500, Train Loss: 4.077e-05, Time:0.01 seconds\n",
      "Epoch 1600/2500, Train Loss: 3.494e-05, Time:0.01 seconds\n",
      "Epoch 1700/2500, Train Loss: 1.198e-05, Time:0.01 seconds\n",
      "Epoch 1800/2500, Train Loss: 2.461e-05, Time:0.01 seconds\n",
      "Epoch 1900/2500, Train Loss: 1.114e-05, Time:0.01 seconds\n",
      "Epoch 2000/2500, Train Loss: 2.271e-05, Time:0.01 seconds\n",
      "Epoch 2100/2500, Train Loss: 7.142e-06, Time:0.01 seconds\n",
      "Epoch 2200/2500, Train Loss: 1.933e-05, Time:0.01 seconds\n",
      "Epoch 2300/2500, Train Loss: 1.016e-05, Time:0.01 seconds\n",
      "Epoch 2400/2500, Train Loss: 1.126e-05, Time:0.01 seconds\n",
      "Epoch 2500/2500, Train Loss: 1.265e-05, Time:0.01 seconds\n",
      "GRU Total Train Time in seconds 25.718318223953247\n",
      "1\n",
      "####### GRU bootstrap for IT #######\n",
      "GRU Train\n"
     ]
    },
    {
     "name": "stderr",
     "output_type": "stream",
     "text": [
      "/opt/conda/lib/python3.10/site-packages/torch/nn/modules/rnn.py:62: UserWarning: dropout option adds dropout after all but last recurrent layer, so non-zero dropout expects num_layers greater than 1, but got dropout=0.2 and num_layers=1\n",
      "  warnings.warn(\"dropout option adds dropout after all but last \"\n"
     ]
    },
    {
     "name": "stdout",
     "output_type": "stream",
     "text": [
      "Epoch 100/2500, Train Loss: 7.389e-05, Time:0.01 seconds\n",
      "Epoch 200/2500, Train Loss: 3.500e-05, Time:0.01 seconds\n",
      "Epoch 300/2500, Train Loss: 4.107e-05, Time:0.01 seconds\n",
      "Epoch 400/2500, Train Loss: 3.574e-05, Time:0.01 seconds\n",
      "Epoch 500/2500, Train Loss: 3.797e-05, Time:0.01 seconds\n",
      "Epoch 600/2500, Train Loss: 4.012e-05, Time:0.01 seconds\n",
      "Epoch 700/2500, Train Loss: 4.407e-05, Time:0.01 seconds\n",
      "Epoch 800/2500, Train Loss: 7.013e-05, Time:0.01 seconds\n",
      "Epoch 900/2500, Train Loss: 4.527e-05, Time:0.01 seconds\n",
      "Epoch 1000/2500, Train Loss: 2.893e-05, Time:0.01 seconds\n",
      "Epoch 1100/2500, Train Loss: 2.621e-05, Time:0.01 seconds\n",
      "Epoch 1200/2500, Train Loss: 3.094e-05, Time:0.01 seconds\n",
      "Epoch 1300/2500, Train Loss: 1.050e-04, Time:0.01 seconds\n",
      "Epoch 1400/2500, Train Loss: 7.940e-05, Time:0.01 seconds\n",
      "Epoch 1500/2500, Train Loss: 3.730e-05, Time:0.01 seconds\n",
      "Epoch 1600/2500, Train Loss: 3.257e-05, Time:0.01 seconds\n",
      "Epoch 1700/2500, Train Loss: 3.027e-05, Time:0.01 seconds\n",
      "Epoch 1800/2500, Train Loss: 3.628e-05, Time:0.01 seconds\n",
      "Epoch 1900/2500, Train Loss: 3.330e-05, Time:0.01 seconds\n",
      "Epoch 2000/2500, Train Loss: 2.382e-05, Time:0.01 seconds\n",
      "Epoch 2100/2500, Train Loss: 1.153e-05, Time:0.01 seconds\n",
      "Epoch 2200/2500, Train Loss: 2.180e-05, Time:0.01 seconds\n",
      "Epoch 2300/2500, Train Loss: 9.771e-06, Time:0.01 seconds\n",
      "Epoch 2400/2500, Train Loss: 1.111e-05, Time:0.01 seconds\n",
      "Epoch 2500/2500, Train Loss: 3.058e-05, Time:0.01 seconds\n",
      "GRU Total Train Time in seconds 25.65707039833069\n",
      "2\n",
      "####### GRU bootstrap for IT #######\n",
      "GRU Train\n"
     ]
    },
    {
     "name": "stderr",
     "output_type": "stream",
     "text": [
      "/opt/conda/lib/python3.10/site-packages/torch/nn/modules/rnn.py:62: UserWarning: dropout option adds dropout after all but last recurrent layer, so non-zero dropout expects num_layers greater than 1, but got dropout=0.2 and num_layers=1\n",
      "  warnings.warn(\"dropout option adds dropout after all but last \"\n"
     ]
    },
    {
     "name": "stdout",
     "output_type": "stream",
     "text": [
      "Epoch 100/2500, Train Loss: 6.895e-05, Time:0.01 seconds\n",
      "Epoch 200/2500, Train Loss: 4.522e-05, Time:0.01 seconds\n",
      "Epoch 300/2500, Train Loss: 3.558e-05, Time:0.01 seconds\n",
      "Epoch 400/2500, Train Loss: 2.939e-05, Time:0.01 seconds\n",
      "Epoch 500/2500, Train Loss: 2.783e-05, Time:0.01 seconds\n",
      "Epoch 600/2500, Train Loss: 3.444e-05, Time:0.01 seconds\n",
      "Epoch 700/2500, Train Loss: 2.411e-05, Time:0.01 seconds\n",
      "Epoch 800/2500, Train Loss: 1.423e-05, Time:0.01 seconds\n",
      "Epoch 900/2500, Train Loss: 1.815e-05, Time:0.01 seconds\n",
      "Epoch 1000/2500, Train Loss: 1.001e-05, Time:0.01 seconds\n",
      "Epoch 1100/2500, Train Loss: 1.710e-05, Time:0.01 seconds\n",
      "Epoch 1200/2500, Train Loss: 2.247e-05, Time:0.01 seconds\n",
      "Epoch 1300/2500, Train Loss: 2.277e-05, Time:0.01 seconds\n",
      "Epoch 1400/2500, Train Loss: 6.992e-06, Time:0.01 seconds\n",
      "Epoch 1500/2500, Train Loss: 5.575e-06, Time:0.01 seconds\n",
      "Epoch 1600/2500, Train Loss: 4.146e-05, Time:0.01 seconds\n",
      "Epoch 1700/2500, Train Loss: 5.171e-05, Time:0.01 seconds\n",
      "Epoch 1800/2500, Train Loss: 1.484e-05, Time:0.01 seconds\n",
      "Epoch 1900/2500, Train Loss: 2.861e-05, Time:0.01 seconds\n",
      "Epoch 2000/2500, Train Loss: 9.287e-06, Time:0.01 seconds\n",
      "Epoch 2100/2500, Train Loss: 2.443e-05, Time:0.01 seconds\n",
      "Epoch 2200/2500, Train Loss: 1.941e-05, Time:0.01 seconds\n",
      "Epoch 2300/2500, Train Loss: 2.556e-05, Time:0.01 seconds\n",
      "Epoch 2400/2500, Train Loss: 8.497e-06, Time:0.01 seconds\n",
      "Epoch 2500/2500, Train Loss: 1.422e-05, Time:0.01 seconds\n",
      "GRU Total Train Time in seconds 25.9125816822052\n",
      "3\n",
      "####### GRU bootstrap for IT #######\n",
      "GRU Train\n"
     ]
    },
    {
     "name": "stderr",
     "output_type": "stream",
     "text": [
      "/opt/conda/lib/python3.10/site-packages/torch/nn/modules/rnn.py:62: UserWarning: dropout option adds dropout after all but last recurrent layer, so non-zero dropout expects num_layers greater than 1, but got dropout=0.2 and num_layers=1\n",
      "  warnings.warn(\"dropout option adds dropout after all but last \"\n"
     ]
    },
    {
     "name": "stdout",
     "output_type": "stream",
     "text": [
      "Epoch 100/2500, Train Loss: 6.215e-05, Time:0.01 seconds\n",
      "Epoch 200/2500, Train Loss: 4.380e-05, Time:0.01 seconds\n",
      "Epoch 300/2500, Train Loss: 3.624e-05, Time:0.01 seconds\n",
      "Epoch 400/2500, Train Loss: 4.604e-05, Time:0.01 seconds\n",
      "Epoch 500/2500, Train Loss: 4.545e-05, Time:0.01 seconds\n",
      "Epoch 600/2500, Train Loss: 9.352e-05, Time:0.01 seconds\n",
      "Epoch 700/2500, Train Loss: 2.361e-05, Time:0.01 seconds\n",
      "Epoch 800/2500, Train Loss: 2.881e-05, Time:0.01 seconds\n",
      "Epoch 900/2500, Train Loss: 3.113e-05, Time:0.01 seconds\n",
      "Epoch 1000/2500, Train Loss: 2.864e-05, Time:0.01 seconds\n",
      "Epoch 1100/2500, Train Loss: 2.992e-05, Time:0.01 seconds\n",
      "Epoch 1200/2500, Train Loss: 1.662e-05, Time:0.01 seconds\n",
      "Epoch 1300/2500, Train Loss: 1.332e-05, Time:0.01 seconds\n",
      "Epoch 1400/2500, Train Loss: 1.473e-05, Time:0.01 seconds\n",
      "Epoch 1500/2500, Train Loss: 4.558e-05, Time:0.01 seconds\n",
      "Epoch 1600/2500, Train Loss: 2.617e-05, Time:0.01 seconds\n",
      "Epoch 1700/2500, Train Loss: 3.278e-05, Time:0.01 seconds\n",
      "Epoch 1800/2500, Train Loss: 5.603e-05, Time:0.01 seconds\n",
      "Epoch 1900/2500, Train Loss: 1.049e-05, Time:0.01 seconds\n",
      "Epoch 2000/2500, Train Loss: 3.830e-05, Time:0.01 seconds\n",
      "Epoch 2100/2500, Train Loss: 1.815e-05, Time:0.01 seconds\n",
      "Epoch 2200/2500, Train Loss: 1.412e-05, Time:0.01 seconds\n",
      "Epoch 2300/2500, Train Loss: 2.501e-05, Time:0.01 seconds\n",
      "Epoch 2400/2500, Train Loss: 3.085e-05, Time:0.01 seconds\n",
      "Epoch 2500/2500, Train Loss: 1.080e-05, Time:0.01 seconds\n",
      "GRU Total Train Time in seconds 25.279422521591187\n",
      "4\n",
      "####### GRU bootstrap for IT #######\n",
      "GRU Train\n"
     ]
    },
    {
     "name": "stderr",
     "output_type": "stream",
     "text": [
      "/opt/conda/lib/python3.10/site-packages/torch/nn/modules/rnn.py:62: UserWarning: dropout option adds dropout after all but last recurrent layer, so non-zero dropout expects num_layers greater than 1, but got dropout=0.2 and num_layers=1\n",
      "  warnings.warn(\"dropout option adds dropout after all but last \"\n"
     ]
    },
    {
     "name": "stdout",
     "output_type": "stream",
     "text": [
      "Epoch 100/2500, Train Loss: 6.254e-05, Time:0.01 seconds\n",
      "Epoch 200/2500, Train Loss: 4.214e-05, Time:0.01 seconds\n",
      "Epoch 300/2500, Train Loss: 3.177e-05, Time:0.01 seconds\n",
      "Epoch 400/2500, Train Loss: 3.123e-05, Time:0.01 seconds\n",
      "Epoch 500/2500, Train Loss: 4.712e-05, Time:0.01 seconds\n",
      "Epoch 600/2500, Train Loss: 3.268e-05, Time:0.01 seconds\n",
      "Epoch 700/2500, Train Loss: 3.041e-05, Time:0.01 seconds\n",
      "Epoch 800/2500, Train Loss: 2.525e-05, Time:0.01 seconds\n",
      "Epoch 900/2500, Train Loss: 2.928e-05, Time:0.01 seconds\n",
      "Epoch 1000/2500, Train Loss: 3.171e-05, Time:0.01 seconds\n",
      "Epoch 1100/2500, Train Loss: 3.450e-05, Time:0.01 seconds\n",
      "Epoch 1200/2500, Train Loss: 2.479e-05, Time:0.01 seconds\n",
      "Epoch 1300/2500, Train Loss: 1.711e-05, Time:0.01 seconds\n",
      "Epoch 1400/2500, Train Loss: 1.042e-05, Time:0.01 seconds\n",
      "Epoch 1500/2500, Train Loss: 5.679e-05, Time:0.01 seconds\n",
      "Epoch 1600/2500, Train Loss: 1.149e-05, Time:0.01 seconds\n",
      "Epoch 1700/2500, Train Loss: 1.239e-05, Time:0.01 seconds\n",
      "Epoch 1800/2500, Train Loss: 1.864e-05, Time:0.01 seconds\n",
      "Epoch 1900/2500, Train Loss: 1.783e-05, Time:0.01 seconds\n",
      "Epoch 2000/2500, Train Loss: 3.760e-05, Time:0.01 seconds\n",
      "Epoch 2100/2500, Train Loss: 4.157e-05, Time:0.01 seconds\n",
      "Epoch 2200/2500, Train Loss: 1.459e-05, Time:0.01 seconds\n",
      "Epoch 2300/2500, Train Loss: 6.063e-05, Time:0.01 seconds\n",
      "Epoch 2400/2500, Train Loss: 1.136e-05, Time:0.01 seconds\n",
      "Epoch 2500/2500, Train Loss: 1.078e-05, Time:0.01 seconds\n",
      "GRU Total Train Time in seconds 25.768616199493408\n",
      "5\n",
      "####### GRU bootstrap for IT #######\n",
      "GRU Train\n"
     ]
    },
    {
     "name": "stderr",
     "output_type": "stream",
     "text": [
      "/opt/conda/lib/python3.10/site-packages/torch/nn/modules/rnn.py:62: UserWarning: dropout option adds dropout after all but last recurrent layer, so non-zero dropout expects num_layers greater than 1, but got dropout=0.2 and num_layers=1\n",
      "  warnings.warn(\"dropout option adds dropout after all but last \"\n"
     ]
    },
    {
     "name": "stdout",
     "output_type": "stream",
     "text": [
      "Epoch 100/2500, Train Loss: 9.371e-05, Time:0.01 seconds\n",
      "Epoch 200/2500, Train Loss: 5.119e-05, Time:0.01 seconds\n",
      "Epoch 300/2500, Train Loss: 3.348e-05, Time:0.01 seconds\n",
      "Epoch 400/2500, Train Loss: 3.822e-05, Time:0.01 seconds\n",
      "Epoch 500/2500, Train Loss: 2.987e-05, Time:0.01 seconds\n",
      "Epoch 600/2500, Train Loss: 2.936e-05, Time:0.01 seconds\n",
      "Epoch 700/2500, Train Loss: 2.644e-05, Time:0.01 seconds\n",
      "Epoch 800/2500, Train Loss: 3.525e-05, Time:0.01 seconds\n",
      "Epoch 900/2500, Train Loss: 2.778e-05, Time:0.01 seconds\n",
      "Epoch 1000/2500, Train Loss: 2.356e-05, Time:0.01 seconds\n",
      "Epoch 1100/2500, Train Loss: 2.409e-05, Time:0.01 seconds\n",
      "Epoch 1200/2500, Train Loss: 3.849e-05, Time:0.01 seconds\n",
      "Epoch 1300/2500, Train Loss: 3.969e-05, Time:0.01 seconds\n",
      "Epoch 1400/2500, Train Loss: 2.509e-05, Time:0.01 seconds\n",
      "Epoch 1500/2500, Train Loss: 1.865e-05, Time:0.01 seconds\n",
      "Epoch 1600/2500, Train Loss: 5.073e-05, Time:0.01 seconds\n",
      "Epoch 1700/2500, Train Loss: 1.673e-05, Time:0.01 seconds\n",
      "Epoch 1800/2500, Train Loss: 3.229e-05, Time:0.01 seconds\n",
      "Epoch 1900/2500, Train Loss: 3.301e-05, Time:0.01 seconds\n",
      "Epoch 2000/2500, Train Loss: 3.144e-05, Time:0.01 seconds\n",
      "Epoch 2100/2500, Train Loss: 2.476e-05, Time:0.01 seconds\n",
      "Epoch 2200/2500, Train Loss: 2.241e-05, Time:0.01 seconds\n",
      "Epoch 2300/2500, Train Loss: 8.357e-06, Time:0.01 seconds\n",
      "Epoch 2400/2500, Train Loss: 2.458e-05, Time:0.01 seconds\n",
      "Epoch 2500/2500, Train Loss: 1.162e-05, Time:0.01 seconds\n",
      "GRU Total Train Time in seconds 25.64655089378357\n",
      "6\n",
      "####### GRU bootstrap for IT #######\n",
      "GRU Train\n"
     ]
    },
    {
     "name": "stderr",
     "output_type": "stream",
     "text": [
      "/opt/conda/lib/python3.10/site-packages/torch/nn/modules/rnn.py:62: UserWarning: dropout option adds dropout after all but last recurrent layer, so non-zero dropout expects num_layers greater than 1, but got dropout=0.2 and num_layers=1\n",
      "  warnings.warn(\"dropout option adds dropout after all but last \"\n"
     ]
    },
    {
     "name": "stdout",
     "output_type": "stream",
     "text": [
      "Epoch 100/2500, Train Loss: 8.688e-05, Time:0.01 seconds\n",
      "Epoch 200/2500, Train Loss: 4.409e-05, Time:0.01 seconds\n",
      "Epoch 300/2500, Train Loss: 4.383e-05, Time:0.01 seconds\n",
      "Epoch 400/2500, Train Loss: 4.094e-05, Time:0.01 seconds\n",
      "Epoch 500/2500, Train Loss: 4.967e-05, Time:0.01 seconds\n",
      "Epoch 600/2500, Train Loss: 4.168e-05, Time:0.01 seconds\n",
      "Epoch 700/2500, Train Loss: 2.905e-05, Time:0.01 seconds\n",
      "Epoch 800/2500, Train Loss: 2.502e-05, Time:0.01 seconds\n",
      "Epoch 900/2500, Train Loss: 2.185e-05, Time:0.01 seconds\n",
      "Epoch 1000/2500, Train Loss: 2.080e-05, Time:0.01 seconds\n",
      "Epoch 1100/2500, Train Loss: 4.572e-05, Time:0.01 seconds\n",
      "Epoch 1200/2500, Train Loss: 4.353e-05, Time:0.01 seconds\n",
      "Epoch 1300/2500, Train Loss: 1.706e-05, Time:0.01 seconds\n",
      "Epoch 1400/2500, Train Loss: 1.917e-05, Time:0.01 seconds\n",
      "Epoch 1500/2500, Train Loss: 9.794e-06, Time:0.01 seconds\n",
      "Epoch 1600/2500, Train Loss: 1.174e-05, Time:0.01 seconds\n",
      "Epoch 1700/2500, Train Loss: 9.954e-05, Time:0.01 seconds\n",
      "Epoch 1800/2500, Train Loss: 1.199e-05, Time:0.01 seconds\n",
      "Epoch 1900/2500, Train Loss: 3.834e-05, Time:0.01 seconds\n",
      "Epoch 2000/2500, Train Loss: 2.347e-05, Time:0.01 seconds\n",
      "Epoch 2100/2500, Train Loss: 1.823e-05, Time:0.01 seconds\n",
      "Epoch 2200/2500, Train Loss: 1.274e-05, Time:0.01 seconds\n",
      "Epoch 2300/2500, Train Loss: 2.765e-05, Time:0.01 seconds\n",
      "Epoch 2400/2500, Train Loss: 4.556e-05, Time:0.01 seconds\n",
      "Epoch 2500/2500, Train Loss: 1.685e-05, Time:0.01 seconds\n",
      "GRU Total Train Time in seconds 25.990318059921265\n",
      "7\n",
      "####### GRU bootstrap for IT #######\n",
      "GRU Train\n"
     ]
    },
    {
     "name": "stderr",
     "output_type": "stream",
     "text": [
      "/opt/conda/lib/python3.10/site-packages/torch/nn/modules/rnn.py:62: UserWarning: dropout option adds dropout after all but last recurrent layer, so non-zero dropout expects num_layers greater than 1, but got dropout=0.2 and num_layers=1\n",
      "  warnings.warn(\"dropout option adds dropout after all but last \"\n"
     ]
    },
    {
     "name": "stdout",
     "output_type": "stream",
     "text": [
      "Epoch 100/2500, Train Loss: 5.609e-05, Time:0.01 seconds\n",
      "Epoch 200/2500, Train Loss: 4.540e-05, Time:0.01 seconds\n",
      "Epoch 300/2500, Train Loss: 4.345e-05, Time:0.01 seconds\n",
      "Epoch 400/2500, Train Loss: 3.807e-05, Time:0.01 seconds\n",
      "Epoch 500/2500, Train Loss: 3.294e-05, Time:0.01 seconds\n",
      "Epoch 600/2500, Train Loss: 3.282e-05, Time:0.01 seconds\n",
      "Epoch 700/2500, Train Loss: 4.802e-05, Time:0.01 seconds\n",
      "Epoch 800/2500, Train Loss: 3.195e-05, Time:0.01 seconds\n",
      "Epoch 900/2500, Train Loss: 4.751e-05, Time:0.01 seconds\n",
      "Epoch 1000/2500, Train Loss: 2.859e-05, Time:0.01 seconds\n",
      "Epoch 1100/2500, Train Loss: 3.658e-05, Time:0.01 seconds\n",
      "Epoch 1200/2500, Train Loss: 2.563e-05, Time:0.01 seconds\n",
      "Epoch 1300/2500, Train Loss: 2.274e-05, Time:0.01 seconds\n",
      "Epoch 1400/2500, Train Loss: 5.453e-05, Time:0.01 seconds\n",
      "Epoch 1500/2500, Train Loss: 2.046e-05, Time:0.01 seconds\n",
      "Epoch 1600/2500, Train Loss: 4.284e-05, Time:0.01 seconds\n",
      "Epoch 1700/2500, Train Loss: 3.457e-05, Time:0.01 seconds\n",
      "Epoch 1800/2500, Train Loss: 2.277e-05, Time:0.01 seconds\n",
      "Epoch 1900/2500, Train Loss: 8.930e-05, Time:0.01 seconds\n",
      "Epoch 2000/2500, Train Loss: 2.205e-05, Time:0.01 seconds\n",
      "Epoch 2100/2500, Train Loss: 3.216e-05, Time:0.01 seconds\n",
      "Epoch 2200/2500, Train Loss: 2.942e-05, Time:0.01 seconds\n",
      "Epoch 2300/2500, Train Loss: 1.262e-05, Time:0.01 seconds\n",
      "Epoch 2400/2500, Train Loss: 2.581e-05, Time:0.01 seconds\n",
      "Epoch 2500/2500, Train Loss: 1.149e-05, Time:0.01 seconds\n",
      "GRU Total Train Time in seconds 25.80682897567749\n",
      "8\n",
      "####### GRU bootstrap for IT #######\n",
      "GRU Train\n"
     ]
    },
    {
     "name": "stderr",
     "output_type": "stream",
     "text": [
      "/opt/conda/lib/python3.10/site-packages/torch/nn/modules/rnn.py:62: UserWarning: dropout option adds dropout after all but last recurrent layer, so non-zero dropout expects num_layers greater than 1, but got dropout=0.2 and num_layers=1\n",
      "  warnings.warn(\"dropout option adds dropout after all but last \"\n"
     ]
    },
    {
     "name": "stdout",
     "output_type": "stream",
     "text": [
      "Epoch 100/2500, Train Loss: 6.226e-05, Time:0.01 seconds\n",
      "Epoch 200/2500, Train Loss: 3.577e-05, Time:0.01 seconds\n",
      "Epoch 300/2500, Train Loss: 3.518e-05, Time:0.01 seconds\n",
      "Epoch 400/2500, Train Loss: 2.837e-05, Time:0.01 seconds\n",
      "Epoch 500/2500, Train Loss: 3.080e-05, Time:0.01 seconds\n",
      "Epoch 600/2500, Train Loss: 3.788e-05, Time:0.01 seconds\n",
      "Epoch 700/2500, Train Loss: 3.869e-05, Time:0.01 seconds\n",
      "Epoch 800/2500, Train Loss: 2.616e-05, Time:0.01 seconds\n",
      "Epoch 900/2500, Train Loss: 2.720e-05, Time:0.01 seconds\n",
      "Epoch 1000/2500, Train Loss: 3.091e-05, Time:0.01 seconds\n",
      "Epoch 1100/2500, Train Loss: 4.779e-05, Time:0.01 seconds\n",
      "Epoch 1200/2500, Train Loss: 1.762e-05, Time:0.01 seconds\n",
      "Epoch 1300/2500, Train Loss: 3.121e-05, Time:0.01 seconds\n",
      "Epoch 1400/2500, Train Loss: 4.553e-05, Time:0.01 seconds\n",
      "Epoch 1500/2500, Train Loss: 2.621e-05, Time:0.01 seconds\n",
      "Epoch 1600/2500, Train Loss: 2.346e-05, Time:0.01 seconds\n",
      "Epoch 1700/2500, Train Loss: 1.120e-05, Time:0.01 seconds\n",
      "Epoch 1800/2500, Train Loss: 5.130e-05, Time:0.01 seconds\n",
      "Epoch 1900/2500, Train Loss: 1.034e-05, Time:0.01 seconds\n",
      "Epoch 2000/2500, Train Loss: 3.499e-05, Time:0.01 seconds\n",
      "Epoch 2100/2500, Train Loss: 2.190e-05, Time:0.01 seconds\n",
      "Epoch 2200/2500, Train Loss: 2.398e-05, Time:0.01 seconds\n",
      "Epoch 2300/2500, Train Loss: 3.111e-05, Time:0.01 seconds\n",
      "Epoch 2400/2500, Train Loss: 2.904e-04, Time:0.01 seconds\n",
      "Epoch 2500/2500, Train Loss: 1.367e-05, Time:0.01 seconds\n",
      "GRU Total Train Time in seconds 25.765981674194336\n",
      "9\n",
      "####### GRU bootstrap for IT #######\n",
      "GRU Train\n"
     ]
    },
    {
     "name": "stderr",
     "output_type": "stream",
     "text": [
      "/opt/conda/lib/python3.10/site-packages/torch/nn/modules/rnn.py:62: UserWarning: dropout option adds dropout after all but last recurrent layer, so non-zero dropout expects num_layers greater than 1, but got dropout=0.2 and num_layers=1\n",
      "  warnings.warn(\"dropout option adds dropout after all but last \"\n"
     ]
    },
    {
     "name": "stdout",
     "output_type": "stream",
     "text": [
      "Epoch 100/2500, Train Loss: 7.905e-05, Time:0.01 seconds\n",
      "Epoch 200/2500, Train Loss: 3.779e-05, Time:0.01 seconds\n",
      "Epoch 300/2500, Train Loss: 3.509e-05, Time:0.01 seconds\n",
      "Epoch 400/2500, Train Loss: 3.479e-05, Time:0.01 seconds\n",
      "Epoch 500/2500, Train Loss: 3.585e-05, Time:0.01 seconds\n",
      "Epoch 600/2500, Train Loss: 3.615e-05, Time:0.01 seconds\n",
      "Epoch 700/2500, Train Loss: 2.913e-05, Time:0.01 seconds\n",
      "Epoch 800/2500, Train Loss: 2.373e-05, Time:0.01 seconds\n",
      "Epoch 900/2500, Train Loss: 5.591e-05, Time:0.01 seconds\n",
      "Epoch 1000/2500, Train Loss: 4.020e-05, Time:0.01 seconds\n",
      "Epoch 1100/2500, Train Loss: 4.372e-05, Time:0.01 seconds\n",
      "Epoch 1200/2500, Train Loss: 2.733e-05, Time:0.01 seconds\n",
      "Epoch 1300/2500, Train Loss: 2.283e-05, Time:0.01 seconds\n",
      "Epoch 1400/2500, Train Loss: 6.891e-05, Time:0.01 seconds\n",
      "Epoch 1500/2500, Train Loss: 1.364e-05, Time:0.01 seconds\n",
      "Epoch 1600/2500, Train Loss: 8.421e-06, Time:0.01 seconds\n",
      "Epoch 1700/2500, Train Loss: 2.346e-05, Time:0.01 seconds\n",
      "Epoch 1800/2500, Train Loss: 1.773e-05, Time:0.01 seconds\n",
      "Epoch 1900/2500, Train Loss: 1.185e-05, Time:0.01 seconds\n",
      "Epoch 2000/2500, Train Loss: 1.941e-05, Time:0.01 seconds\n",
      "Epoch 2100/2500, Train Loss: 2.245e-05, Time:0.01 seconds\n",
      "Epoch 2200/2500, Train Loss: 1.240e-05, Time:0.01 seconds\n",
      "Epoch 2300/2500, Train Loss: 3.144e-05, Time:0.01 seconds\n",
      "Epoch 2400/2500, Train Loss: 2.171e-05, Time:0.01 seconds\n",
      "Epoch 2500/2500, Train Loss: 4.220e-05, Time:0.01 seconds\n",
      "GRU Total Train Time in seconds 25.782363891601562\n"
     ]
    },
    {
     "data": {
      "image/png": "[encoded data removed]",
      "text/plain": [
       "<Figure size 936x612 with 1 Axes>"
      ]
     },
     "metadata": {
      "needs_background": "light"
     },
     "output_type": "display_data"
    }
   ],
   "source": [
    "ym = confidence_interval(realDat, 10, \"GRU\", 'IT', 'Italy', 3 , 'Real Data')"
   ]
  },
  {
   "cell_type": "code",
   "execution_count": 9,
   "id": "b6993de0-7326-4cdd-b08f-39c59311ba51",
   "metadata": {},
   "outputs": [
    {
     "data": {
      "text/plain": [
       "array([[241809.37730014],\n",
       "       [242125.62862437],\n",
       "       [241169.18144746],\n",
       "       [241399.10365595],\n",
       "       [240574.82208409],\n",
       "       [240741.60522557],\n",
       "       [240023.11375372],\n",
       "       [240143.57988975],\n",
       "       [239511.59666995],\n",
       "       [239597.39180344],\n",
       "       [239037.49093896],\n",
       "       [239096.91960797],\n",
       "       [238597.9910777 ],\n",
       "       [238637.13173174],\n",
       "       [238190.39306253],\n",
       "       [238213.77570031],\n",
       "       [237812.15489842],\n",
       "       [237823.25971117],\n",
       "       [237460.93561415],\n",
       "       [237462.45025475],\n",
       "       [237134.57787682],\n",
       "       [237128.63744916],\n",
       "       [236831.12677388],\n",
       "       [236819.41506885],\n",
       "       [236548.79364065],\n",
       "       [236532.66750748],\n",
       "       [236285.95464968],\n",
       "       [236266.50908525],\n",
       "       [236041.11899286],\n",
       "       [236019.23632932],\n",
       "       [235812.95199701],\n",
       "       [235789.33229629],\n",
       "       [235600.21442395],\n",
       "       [235575.4361952 ],\n",
       "       [235401.77692761],\n",
       "       [235376.31018496],\n",
       "       [235216.6113498 ],\n",
       "       [235190.82053735],\n",
       "       [235043.76042318],\n",
       "       [235017.94196761],\n",
       "       [234882.3507272 ],\n",
       "       [234856.7518683 ],\n",
       "       [234731.5782521 ],\n",
       "       [234706.38837855],\n",
       "       [234590.71995454],\n",
       "       [234566.08360844],\n",
       "       [234459.07738681],\n",
       "       [234435.11019595],\n",
       "       [234336.01572319],\n",
       "       [234312.8029386 ],\n",
       "       [234220.96663635],\n",
       "       [234198.5646117 ],\n",
       "       [234113.38930862],\n",
       "       [234091.8326751 ],\n",
       "       [234012.77905297],\n",
       "       [233992.08366882],\n",
       "       [233918.66589816],\n",
       "       [233898.84616502],\n",
       "       [233830.60735821],\n",
       "       [233811.68344874],\n",
       "       [233748.21876001],\n",
       "       [233730.17761272],\n",
       "       [233671.12123117],\n",
       "       [233653.9541185 ],\n",
       "       [233598.97639986]])"
      ]
     },
     "execution_count": 9,
     "metadata": {},
     "output_type": "execute_result"
    }
   ],
   "source": [
    "ym[:157]"
   ]
  },
  {
   "cell_type": "markdown",
   "id": "bb1310fa-97cd-4b6d-a9c6-eb28405575d9",
   "metadata": {},
   "source": [
    "### GRU"
   ]
  },
  {
   "cell_type": "code",
   "execution_count": null,
   "id": "34af9b14-156d-461d-a506-4848e48bfb4c",
   "metadata": {},
   "outputs": [],
   "source": [
    "batch_size = 32\n",
    "actual_g, pred_g, train_act_g, train_prd_g, test_act_g, test_prd_g, ep_g, loss_g_train, loss_g_test = run_model(realDat , \"Real\", 0.0, \"GRU\", \"Italy\", 2000, batch_size)"
   ]
  },
  {
   "cell_type": "code",
   "execution_count": null,
   "id": "e87a9e12-e67e-44a5-a63e-b887279858f0",
   "metadata": {},
   "outputs": [],
   "source": [
    "font = 24\n",
    "fig, ax = plt.subplots() \n",
    "ax.plot(ep_g, loss_g_train,  lw=2,label='Training')\n",
    "ax.plot(ep_g, loss_g_test, lw=2,label ='Validation')\n",
    "ax.legend(fontsize=22)\n",
    "ax.tick_params(axis='both', labelsize = 24)\n",
    "ax.set_xlabel('Epoch', fontsize = font)\n",
    "ax.set_ylabel('Loss', fontsize = font) \n",
    "ax.set_title('Italy GRU traning and validation error',  fontsize = font)\n",
    "fig.set_size_inches(w=13,h=8.5)\n",
    "plt.show()"
   ]
  },
  {
   "cell_type": "code",
   "execution_count": null,
   "id": "3da2736a-aca5-4b96-a96b-227a2cee477b",
   "metadata": {},
   "outputs": [],
   "source": [
    "dtrange=np.arange(133)\n",
    "font = 24\n",
    "fig, ax = plt.subplots() \n",
    "ax.plot(dtrange,realDat[2:] , 'ob',  lw=2,label='Daily Cases')\n",
    "ax.plot(dtrange, pred_g, \"g\", lw=2,label =' GRU')\n",
    "ax.legend(fontsize=22)\n",
    "ax.tick_params(axis='both', labelsize = 24)\n",
    "ax.set_xlabel('Days', fontsize = font)\n",
    "ax.set_ylabel('$C(t)$', fontsize = font) \n",
    "ax.set_title('Daily Infected',  fontsize = font)\n",
    "fig.set_size_inches(w=13,h=8.5)\n",
    "plt.show()"
   ]
  },
  {
   "cell_type": "code",
   "execution_count": null,
   "id": "70341701-23c5-48e1-84cc-da507f59c1ca",
   "metadata": {},
   "outputs": [],
   "source": []
  },
  {
   "cell_type": "markdown",
   "id": "3ca7c035-61c6-4df6-9bc5-6a9cb345cb61",
   "metadata": {},
   "source": [
    "### LSTM"
   ]
  },
  {
   "cell_type": "code",
   "execution_count": null,
   "id": "e44888c6-efe6-4e1d-84b5-1b4c3801e751",
   "metadata": {},
   "outputs": [],
   "source": [
    "batch_size = 45\n",
    "actual_l, pred_l, train_act_l, train_prd_l, test_act_l, test_prd_l, ep_l, loss_l_train, loss_l_test =run_model(realDat , \"Real\", 0.0, \"LSTM\", \"TN\",  1000, batch_size)"
   ]
  },
  {
   "cell_type": "code",
   "execution_count": null,
   "id": "eef4ee72-3b9b-441f-a8cb-f2c0a94b83b3",
   "metadata": {},
   "outputs": [],
   "source": [
    "font = 24\n",
    "fig, ax = plt.subplots() \n",
    "ax.plot(ep_l, loss_l_train,  lw=2,label='Training')\n",
    "ax.plot(ep_l, loss_l_test, lw=2,label ='Validation')\n",
    "ax.legend(fontsize=22)\n",
    "ax.tick_params(axis='both', labelsize = 24)\n",
    "ax.set_xlabel('Epoch', fontsize = font)\n",
    "ax.set_ylabel('Loss', fontsize = font) \n",
    "fig.set_size_inches(w=13,h=8.5)\n",
    "plt.show()"
   ]
  },
  {
   "cell_type": "code",
   "execution_count": null,
   "id": "54ee4b7e-9e22-4662-8448-79fbf4cec682",
   "metadata": {},
   "outputs": [],
   "source": [
    "dtrange=np.arange(133)\n",
    "font = 24\n",
    "fig, ax = plt.subplots() \n",
    "ax.plot(dtrange,realDat[2:] , 'ob',  lw=2,label='Daily Cases')\n",
    "ax.plot(dtrange, pred_l, \"g\", lw=2,label =' GRU')\n",
    "ax.legend(fontsize=22)\n",
    "ax.tick_params(axis='both', labelsize = 24)\n",
    "ax.set_xlabel('Days', fontsize = font)\n",
    "ax.set_ylabel('$C(t)$', fontsize = font) \n",
    "ax.set_title('Daily Infected',  fontsize = font)\n",
    "fig.set_size_inches(w=13,h=8.5)\n",
    "plt.show()"
   ]
  }
 ],
 "metadata": {
  "kernelspec": {
   "display_name": "Python 3 (ipykernel)",
   "language": "python",
   "name": "python3"
  },
  "language_info": {
   "codemirror_mode": {
    "name": "ipython",
    "version": 3
   },
   "file_extension": ".py",
   "mimetype": "text/x-python",
   "name": "python",
   "nbconvert_exporter": "python",
   "pygments_lexer": "ipython3",
   "version": "3.10.5"
  }
 },
 "nbformat": 4,
 "nbformat_minor": 5
}
